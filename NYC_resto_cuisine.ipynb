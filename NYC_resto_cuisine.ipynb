{
 "cells": [
  {
   "cell_type": "markdown",
   "metadata": {},
   "source": [
    "# Looking at different cuisines and violations\n",
    "\n",
    "####THINGS TO TEST:\n",
    "1. Q: what are the most popular cuisines?\n",
    "    + find 3 different ways of visualizing this\n",
    "    + maybe look at grade vs. time for 10 most popular?\n",
    "2. what cuisines have most violations?\n",
    "3. what cuisines have worst grades? \n",
    "4. maybe save file of 10 most popular cuisines? \n",
    "\n",
    "\n",
    "#### Explored data:\n",
    "+  1, What kind of Actions were taken by the DOHMH\n",
    "+  2, What is score?\n",
    "+  3, what kind of Inspection types are there? \n",
    "+  What kind of violations get a critical flag? "
   ]
  },
  {
   "cell_type": "code",
   "execution_count": 1,
   "metadata": {
    "collapsed": true
   },
   "outputs": [],
   "source": [
    "import pandas as pd\n",
    "import numpy as np\n",
    "import datetime as dt \n",
    "import matplotlib\n",
    "import matplotlib.pyplot as plt\n",
    "\n",
    "%matplotlib inline\n",
    "\n",
    "import ggplot"
   ]
  },
  {
   "cell_type": "code",
   "execution_count": 2,
   "metadata": {
    "collapsed": false
   },
   "outputs": [
    {
     "name": "stdout",
     "output_type": "stream",
     "text": [
      "the loading took 3 seconds \n"
     ]
    }
   ],
   "source": [
    "start = dt.datetime.now()\n",
    "nydata = pd.read_csv('NYC_Resto.csv')\n",
    "\n",
    "print \"the loading took {} seconds \".format((dt.datetime.now()-start).seconds)"
   ]
  },
  {
   "cell_type": "code",
   "execution_count": 4,
   "metadata": {
    "collapsed": false
   },
   "outputs": [
    {
     "name": "stdout",
     "output_type": "stream",
     "text": [
      "<class 'pandas.core.frame.DataFrame'>\n",
      "RangeIndex: 449381 entries, 0 to 449380\n",
      "Data columns (total 18 columns):\n",
      "CAMIS                    449381 non-null int64\n",
      "DBA                      448916 non-null object\n",
      "BORO                     449381 non-null object\n",
      "BUILDING                 449279 non-null object\n",
      "STREET                   449381 non-null object\n",
      "ZIPCODE                  449381 non-null int64\n",
      "PHONE                    449335 non-null object\n",
      "CUISINE DESCRIPTION      449381 non-null object\n",
      "INSPECTION DATE          449381 non-null object\n",
      "ACTION                   448223 non-null object\n",
      "VIOLATION CODE           440876 non-null object\n",
      "VIOLATION DESCRIPTION    440645 non-null object\n",
      "CRITICAL FLAG            449381 non-null object\n",
      "SCORE                    419950 non-null float64\n",
      "GRADE                    211726 non-null object\n",
      "GRADE DATE               210067 non-null object\n",
      "RECORD DATE              449381 non-null object\n",
      "INSPECTION TYPE          448223 non-null object\n",
      "dtypes: float64(1), int64(2), object(15)\n",
      "memory usage: 61.7+ MB\n"
     ]
    }
   ],
   "source": [
    "nydata.info()"
   ]
  },
  {
   "cell_type": "code",
   "execution_count": 3,
   "metadata": {
    "collapsed": true
   },
   "outputs": [],
   "source": [
    "# remove a few columns that are unnecessary\n",
    "nydata = nydata.drop(['CAMIS','PHONE','ZIPCODE','STREET', 'BUILDING','RECORD DATE'], axis=1)"
   ]
  },
  {
   "cell_type": "code",
   "execution_count": null,
   "metadata": {
    "collapsed": true
   },
   "outputs": [],
   "source": []
  },
  {
   "cell_type": "markdown",
   "metadata": {},
   "source": [
    "## 1. What kind of Actions were taken by the DOHMH\n",
    "+ there are 5 different kinds of actions that were taken by DOH\n",
    "1. 1). Violations were cited in the following area(s).\n",
    "2. 2). No violations were recorded at the time of this inspection.\n",
    "3. 3). Establishment Closed by DOHMH.  Violations were cited in the following area(s) and those requiring immediate action were addressed.\n",
    "4. 4). 'Establishment re-closed by DOHMH'\n",
    "5. 5). 'Establishment re-opened by DOHMH'"
   ]
  },
  {
   "cell_type": "code",
   "execution_count": 4,
   "metadata": {
    "collapsed": false
   },
   "outputs": [
    {
     "data": {
      "text/plain": [
       "array(['Violations were cited in the following area(s).',\n",
       "       'No violations were recorded at the time of this inspection.',\n",
       "       'Establishment Closed by DOHMH.  Violations were cited in the following area(s) and those requiring immediate action were addressed.',\n",
       "       nan, 'Establishment re-closed by DOHMH',\n",
       "       'Establishment re-opened by DOHMH'], dtype=object)"
      ]
     },
     "execution_count": 4,
     "metadata": {},
     "output_type": "execute_result"
    }
   ],
   "source": [
    "nydata['ACTION'].unique()"
   ]
  },
  {
   "cell_type": "code",
   "execution_count": 5,
   "metadata": {
    "collapsed": true
   },
   "outputs": [],
   "source": [
    "grouped_action = nydata.groupby(nydata['ACTION'])\n",
    "action_count = grouped_action[['ACTION']].count()"
   ]
  },
  {
   "cell_type": "code",
   "execution_count": 6,
   "metadata": {
    "collapsed": false
   },
   "outputs": [
    {
     "data": {
      "text/html": [
       "<div>\n",
       "<table border=\"1\" class=\"dataframe\">\n",
       "  <thead>\n",
       "    <tr style=\"text-align: right;\">\n",
       "      <th></th>\n",
       "      <th>ACTION</th>\n",
       "    </tr>\n",
       "    <tr>\n",
       "      <th>ACTION</th>\n",
       "      <th></th>\n",
       "    </tr>\n",
       "  </thead>\n",
       "  <tbody>\n",
       "    <tr>\n",
       "      <th>Establishment Closed by DOHMH.  Violations were cited in the following area(s) and those requiring immediate action were addressed.</th>\n",
       "      <td>10298</td>\n",
       "    </tr>\n",
       "    <tr>\n",
       "      <th>Establishment re-closed by DOHMH</th>\n",
       "      <td>1155</td>\n",
       "    </tr>\n",
       "    <tr>\n",
       "      <th>Establishment re-opened by DOHMH</th>\n",
       "      <td>2998</td>\n",
       "    </tr>\n",
       "    <tr>\n",
       "      <th>No violations were recorded at the time of this inspection.</th>\n",
       "      <td>7446</td>\n",
       "    </tr>\n",
       "    <tr>\n",
       "      <th>Violations were cited in the following area(s).</th>\n",
       "      <td>426326</td>\n",
       "    </tr>\n",
       "  </tbody>\n",
       "</table>\n",
       "</div>"
      ],
      "text/plain": [
       "                                                    ACTION\n",
       "ACTION                                                    \n",
       "Establishment Closed by DOHMH.  Violations were...   10298\n",
       "Establishment re-closed by DOHMH                      1155\n",
       "Establishment re-opened by DOHMH                      2998\n",
       "No violations were recorded at the time of this...    7446\n",
       "Violations were cited in the following area(s).     426326"
      ]
     },
     "execution_count": 6,
     "metadata": {},
     "output_type": "execute_result"
    }
   ],
   "source": [
    "action_count"
   ]
  },
  {
   "cell_type": "code",
   "execution_count": 7,
   "metadata": {
    "collapsed": false
   },
   "outputs": [
    {
     "data": {
      "text/plain": [
       "Index([u'Establishment Closed by DOHMH.  Violations were cited in the following area(s) and those requiring immediate action were addressed.',\n",
       "       u'Establishment re-closed by DOHMH',\n",
       "       u'Establishment re-opened by DOHMH',\n",
       "       u'No violations were recorded at the time of this inspection.',\n",
       "       u'Violations were cited in the following area(s).'],\n",
       "      dtype='object', name=u'ACTION')"
      ]
     },
     "execution_count": 7,
     "metadata": {},
     "output_type": "execute_result"
    }
   ],
   "source": [
    "action_count['TEXT']=action_count.index\n",
    "action_count.index"
   ]
  },
  {
   "cell_type": "code",
   "execution_count": 8,
   "metadata": {
    "collapsed": false
   },
   "outputs": [],
   "source": [
    "action_count.rename(index={\"Establishment Closed by DOHMH. Violations were cited in the following area(s) and those requiring immediate action were addressed.\": 1})\n",
    "action_count = action_count.rename(index={\"Establishment Closed by DOHMH.  Violations were cited in the following area(s) and those requiring immediate action were addressed.\":1, \n",
    "                            \"Establishment re-closed by DOHMH\": 2,\n",
    "                          \"Establishment re-opened by DOHMH\": 3,\n",
    "                          \"No violations were recorded at the time of this inspection.\":4,\n",
    "                          \"Violations were cited in the following area(s).\": 5})\n"
   ]
  },
  {
   "cell_type": "code",
   "execution_count": 9,
   "metadata": {
    "collapsed": false
   },
   "outputs": [],
   "source": [
    "action_t = action_count.T"
   ]
  },
  {
   "cell_type": "code",
   "execution_count": 10,
   "metadata": {
    "collapsed": false
   },
   "outputs": [],
   "source": [
    "action_t = action_t.drop('TEXT', axis=0)"
   ]
  },
  {
   "cell_type": "code",
   "execution_count": 95,
   "metadata": {
    "collapsed": false
   },
   "outputs": [
    {
     "data": {
      "text/html": [
       "<div>\n",
       "<table border=\"1\" class=\"dataframe\">\n",
       "  <thead>\n",
       "    <tr style=\"text-align: right;\">\n",
       "      <th>ACTION</th>\n",
       "      <th>1</th>\n",
       "      <th>2</th>\n",
       "      <th>3</th>\n",
       "      <th>4</th>\n",
       "      <th>5</th>\n",
       "    </tr>\n",
       "  </thead>\n",
       "  <tbody>\n",
       "    <tr>\n",
       "      <th>ACTION</th>\n",
       "      <td>10298</td>\n",
       "      <td>1155</td>\n",
       "      <td>2998</td>\n",
       "      <td>7446</td>\n",
       "      <td>426326</td>\n",
       "    </tr>\n",
       "  </tbody>\n",
       "</table>\n",
       "</div>"
      ],
      "text/plain": [
       "ACTION      1     2     3     4       5\n",
       "ACTION  10298  1155  2998  7446  426326"
      ]
     },
     "execution_count": 95,
     "metadata": {},
     "output_type": "execute_result"
    }
   ],
   "source": [
    "action_t"
   ]
  },
  {
   "cell_type": "code",
   "execution_count": 11,
   "metadata": {
    "collapsed": false
   },
   "outputs": [
    {
     "data": {
      "text/plain": [
       "'Establishment Closed by DOHMH.  Violations were cited in the following area(s) and those requiring immediate action were addressed.'"
      ]
     },
     "execution_count": 11,
     "metadata": {},
     "output_type": "execute_result"
    }
   ],
   "source": [
    "column = np.array(action_count['TEXT'])\n",
    "column[0]"
   ]
  },
  {
   "cell_type": "markdown",
   "metadata": {},
   "source": [
    "+ I think I might need column-wise data rahter than row-wise data in order to get different colors for each Action "
   ]
  },
  {
   "cell_type": "code",
   "execution_count": 12,
   "metadata": {
    "collapsed": false
   },
   "outputs": [
    {
     "data": {
      "text/plain": [
       "ACTION\n",
       "1     10298\n",
       "2      1155\n",
       "3      2998\n",
       "4      7446\n",
       "5    426326\n",
       "Name: ACTION, dtype: int64"
      ]
     },
     "execution_count": 12,
     "metadata": {},
     "output_type": "execute_result"
    }
   ],
   "source": [
    "action_count['ACTION']"
   ]
  },
  {
   "cell_type": "code",
   "execution_count": 17,
   "metadata": {
    "collapsed": false
   },
   "outputs": [
    {
     "data": {
      "text/plain": [
       "<matplotlib.text.Text at 0x1130cbfd0>"
      ]
     },
     "execution_count": 17,
     "metadata": {},
     "output_type": "execute_result"
    },
    {
     "data": {
      "image/png": "[encoded data removed]",
      "text/plain": [
       "<matplotlib.figure.Figure at 0x10443b250>"
      ]
     },
     "metadata": {},
     "output_type": "display_data"
    }
   ],
   "source": [
    "matplotlib.style.use('ggplot')\n",
    "\n",
    "fig = plt.figure(figsize = (25,10))\n",
    "ax1 = fig.add_subplot(111)\n",
    "\n",
    "ind = np.arange(5) # 5 bars for the 5 counts\n",
    "width = 0.35\n",
    "\n",
    "#ax1.barh(ind, action_count['ACTION'], width)\n",
    "\n",
    "action_t.plot.barh( ax=ax1, width = 1.2)\n",
    "\n",
    "ax1.legend(column, fontsize=15, title= \"Actions taken by DOHMH\", bbox_to_anchor=(0.95, -0.1))\n",
    "plt.title(\"The majority of restaurants were only cited; the fewest were re-closed after being initially closed down \"\n",
    "         , size=18)\n",
    "\n",
    "# SAVE FIGURE\n",
    "#fig.savefig('action_DOH.png',bbox_inches = 'tight') # the last arg. prevents legend from being cut off"
   ]
  },
  {
   "cell_type": "code",
   "execution_count": 139,
   "metadata": {
    "collapsed": false
   },
   "outputs": [
    {
     "data": {
      "text/plain": [
       "448223"
      ]
     },
     "execution_count": 139,
     "metadata": {},
     "output_type": "execute_result"
    }
   ],
   "source": [
    "total_sum = action_count['ACTION'].sum()\n",
    "total_sum"
   ]
  },
  {
   "cell_type": "markdown",
   "metadata": {},
   "source": [
    "## What kind of violations get a critical flag? \n",
    "+ the possible flags are:\n",
    "    'Not Critical', 'Critical', 'Not Applicable'"
   ]
  },
  {
   "cell_type": "code",
   "execution_count": 19,
   "metadata": {
    "collapsed": false
   },
   "outputs": [
    {
     "data": {
      "text/plain": [
       "array(['Not Critical', 'Critical', 'Not Applicable'], dtype=object)"
      ]
     },
     "execution_count": 19,
     "metadata": {},
     "output_type": "execute_result"
    }
   ],
   "source": [
    "nydata['CRITICAL FLAG'].unique()"
   ]
  },
  {
   "cell_type": "code",
   "execution_count": null,
   "metadata": {
    "collapsed": true
   },
   "outputs": [],
   "source": []
  },
  {
   "cell_type": "markdown",
   "metadata": {},
   "source": [
    "## 2. What is score?\n",
    "+ looking at some unique scores, it seems to range from -2 to 117\n",
    "+ what kind of restaurants/violations get a negative score?\n",
    "+ 3 middle Eastern restaurants got a score of -2 yikes!\n",
    "+ and 172 restaurants got a score of -1 (of a variety of cuisines)"
   ]
  },
  {
   "cell_type": "code",
   "execution_count": 18,
   "metadata": {
    "collapsed": false
   },
   "outputs": [
    {
     "data": {
      "text/plain": [
       "array(['Not Critical', 'Critical', 'Not Applicable'], dtype=object)"
      ]
     },
     "execution_count": 18,
     "metadata": {},
     "output_type": "execute_result"
    }
   ],
   "source": [
    "nydata['CRITICAL FLAG'].unique()"
   ]
  },
  {
   "cell_type": "code",
   "execution_count": 14,
   "metadata": {
    "collapsed": false
   },
   "outputs": [
    {
     "data": {
      "text/plain": [
       "array([   6.,   30.,   10.,   13.,   45.,   22.,    8.,   24.,   11.,\n",
       "         28.,    7.,   29.,   23.,   12.,   nan,    5.,   15.,   59.,\n",
       "         25.,    9.,   61.,   33.,   21.,   81.,    2.,   32.,   39.,\n",
       "         18.,   34.,   93.,   16.,   54.,   55.,   17.,   38.,    4.,\n",
       "         19.,   37.,   26.,   20.,   27.,   40.,    3.,   36.,   35.,\n",
       "         57.,   42.,   65.,   14.,   56.,   67.,   51.,   48.,   46.,\n",
       "         31.,   64.,    0.,   58.,   53.,   70.,   96.,   47.,   60.,\n",
       "         49.,   52.,   50.,   83.,   44.,   41.,   63.,   80.,   62.,\n",
       "        105.,   43.,   73.,   85.,  102.,   90.,   88.,   76.,   82.,\n",
       "         71.,   72.,   -1.,   98.,   66.,   74.,   92.,   68.,   77.,\n",
       "         91.,   84.,   94.,  115.,   87.,   75.,  112.,   78.,  114.,\n",
       "         97.,  104.,   69.,  122.,   86.,  111.,   89.,   79.,  106.,\n",
       "        108.,   95.,  121.,  100.,   99.,  103.,  156.,  109.,  110.,\n",
       "        131.,  107.,   -2.,  117.])"
      ]
     },
     "execution_count": 14,
     "metadata": {},
     "output_type": "execute_result"
    }
   ],
   "source": [
    "nydata['SCORE'].unique()"
   ]
  },
  {
   "cell_type": "code",
   "execution_count": 25,
   "metadata": {
    "collapsed": false
   },
   "outputs": [
    {
     "data": {
      "text/plain": [
       "133487    Middle Eastern\n",
       "167803    Middle Eastern\n",
       "177890    Middle Eastern\n",
       "Name: CUISINE DESCRIPTION, dtype: object"
      ]
     },
     "execution_count": 25,
     "metadata": {},
     "output_type": "execute_result"
    }
   ],
   "source": [
    "bad_score = nydata[nydata['SCORE'] == -2]\n",
    "bad_score['CUISINE DESCRIPTION']"
   ]
  },
  {
   "cell_type": "code",
   "execution_count": 27,
   "metadata": {
    "collapsed": false
   },
   "outputs": [
    {
     "data": {
      "text/plain": [
       "172"
      ]
     },
     "execution_count": 27,
     "metadata": {},
     "output_type": "execute_result"
    }
   ],
   "source": [
    "bad_score = nydata[nydata['SCORE'] == -1]\n",
    "bad_score['CUISINE DESCRIPTION'].count()"
   ]
  },
  {
   "cell_type": "markdown",
   "metadata": {},
   "source": [
    "## 3.  what kind of Inspection types are there? \n",
    "+ there are 34 different types of inspection"
   ]
  },
  {
   "cell_type": "code",
   "execution_count": 10,
   "metadata": {
    "collapsed": false
   },
   "outputs": [
    {
     "data": {
      "text/plain": [
       "array(['Pre-permit (Non-operational) / Initial Inspection',\n",
       "       'Pre-permit (Operational) / Initial Inspection',\n",
       "       'Cycle Inspection / Initial Inspection',\n",
       "       'Cycle Inspection / Re-inspection',\n",
       "       'Administrative Miscellaneous / Re-inspection',\n",
       "       'Inter-Agency Task Force / Initial Inspection',\n",
       "       'Smoke-Free Air Act / Initial Inspection',\n",
       "       'Calorie Posting / Compliance Inspection',\n",
       "       'Administrative Miscellaneous / Initial Inspection',\n",
       "       'Pre-permit (Operational) / Re-inspection',\n",
       "       'Cycle Inspection / Compliance Inspection',\n",
       "       'Smoke-Free Air Act / Re-inspection', nan,\n",
       "       'Pre-permit (Non-operational) / Re-inspection',\n",
       "       'Trans Fat / Initial Inspection',\n",
       "       'Administrative Miscellaneous / Compliance Inspection',\n",
       "       'Trans Fat / Second Compliance Inspection',\n",
       "       'Cycle Inspection / Reopening Inspection',\n",
       "       'Trans Fat / Compliance Inspection',\n",
       "       'Pre-permit (Operational) / Reopening Inspection',\n",
       "       'Trans Fat / Re-inspection', 'Calorie Posting / Re-inspection',\n",
       "       'Calorie Posting / Initial Inspection',\n",
       "       'Pre-permit (Operational) / Compliance Inspection',\n",
       "       'Smoke-Free Air Act / Second Compliance Inspection',\n",
       "       'Pre-permit (Operational) / Second Compliance Inspection',\n",
       "       'Administrative Miscellaneous / Reopening Inspection',\n",
       "       'Cycle Inspection / Second Compliance Inspection',\n",
       "       'Smoke-Free Air Act / Compliance Inspection',\n",
       "       'Administrative Miscellaneous / Second Compliance Inspection',\n",
       "       'Calorie Posting / Second Compliance Inspection',\n",
       "       'Pre-permit (Non-operational) / Compliance Inspection',\n",
       "       'Smoke-Free Air Act / Limited Inspection',\n",
       "       'Inter-Agency Task Force / Re-inspection'], dtype=object)"
      ]
     },
     "execution_count": 10,
     "metadata": {},
     "output_type": "execute_result"
    }
   ],
   "source": [
    "list_type = nydata['INSPECTION TYPE'].unique()\n",
    "list_type"
   ]
  },
  {
   "cell_type": "code",
   "execution_count": 11,
   "metadata": {
    "collapsed": false
   },
   "outputs": [
    {
     "data": {
      "text/plain": [
       "34"
      ]
     },
     "execution_count": 11,
     "metadata": {},
     "output_type": "execute_result"
    }
   ],
   "source": [
    "list_type.size\n"
   ]
  },
  {
   "cell_type": "code",
   "execution_count": null,
   "metadata": {
    "collapsed": true
   },
   "outputs": [],
   "source": []
  }
 ],
 "metadata": {
  "kernelspec": {
   "display_name": "Python 2",
   "language": "python",
   "name": "python2"
  },
  "language_info": {
   "codemirror_mode": {
    "name": "ipython",
    "version": 2
   },
   "file_extension": ".py",
   "mimetype": "text/x-python",
   "name": "python",
   "nbconvert_exporter": "python",
   "pygments_lexer": "ipython2",
   "version": "2.7.11"
  }
 },
 "nbformat": 4,
 "nbformat_minor": 0
}
