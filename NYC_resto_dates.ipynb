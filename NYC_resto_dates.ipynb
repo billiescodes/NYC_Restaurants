{
 "cells": [
  {
   "cell_type": "markdown",
   "metadata": {},
   "source": [
    "# NYC restaurant data\n",
    "\n",
    "my ongoing project in understanding NYC restaurant data\n",
    "I would like to see how violations happen across the city, if there is something interesting there\n",
    "Using this data set to learn exploration etc. \n",
    "\n",
    "\n",
    "I am interested in looking how the grades change over time. One of the first ideas I got was to aggregate all the grades in each month and plot that. \n",
    "I expect the number of grades to increase, and hopefully more As than any other grade, indicating that since 2011 Restaurants in NYC have conformed more to the cleanliness standards.\n",
    "\n",
    "https://data.cityofnewyork.us/Health/DOHMH-New-York-City-Restaurant-Inspection-Results/xx67-kt59\n",
    "\n",
    "#### To Do:\n",
    "+ see how the grades were awarded\n",
    "+ what is required to get an A vs. any other grade\n",
    "    + meaning what is the maximum number/type of violation to still receive an A "
   ]
  },
  {
   "cell_type": "code",
   "execution_count": 40,
   "metadata": {
    "collapsed": true
   },
   "outputs": [],
   "source": [
    "import pandas as pd\n",
    "import numpy as np\n",
    "import datetime as dt \n",
    "import matplotlib\n",
    "import matplotlib.pyplot as plt\n",
    "from sklearn import preprocessing\n",
    "%matplotlib inline\n",
    "\n",
    "import ggplot"
   ]
  },
  {
   "cell_type": "code",
   "execution_count": 2,
   "metadata": {
    "collapsed": false
   },
   "outputs": [
    {
     "name": "stdout",
     "output_type": "stream",
     "text": [
      "the loading took 3 seconds \n"
     ]
    }
   ],
   "source": [
    "start = dt.datetime.now()\n",
    "nydata = pd.read_csv('NYC_Resto.csv')\n",
    "\n",
    "print \"the loading took {} seconds \".format((dt.datetime.now()-start).seconds)"
   ]
  },
  {
   "cell_type": "markdown",
   "metadata": {},
   "source": [
    "### Some Data cleaning\n",
    "+ remove unnecessary columns\n",
    "+ remove 'Missing' values from the BORO column\n",
    "+ remove 'Null' grades \n",
    "+ rename columns (temp) \n",
    "+ new DataFrame: **dates**"
   ]
  },
  {
   "cell_type": "code",
   "execution_count": 3,
   "metadata": {
    "collapsed": false
   },
   "outputs": [
    {
     "data": {
      "text/plain": [
       "MANHATTAN        84447\n",
       "BROOKLYN         50509\n",
       "QUEENS           49912\n",
       "BRONX            19654\n",
       "STATEN ISLAND     7186\n",
       "Name: BORO, dtype: int64"
      ]
     },
     "execution_count": 3,
     "metadata": {},
     "output_type": "execute_result"
    }
   ],
   "source": [
    "# unnecessary columns\n",
    "nydata = nydata.drop(['CAMIS','PHONE','ZIPCODE','STREET', 'BUILDING','RECORD DATE'], axis=1)\n",
    "# 'Missing' Boros\n",
    "nydata = nydata[nydata['BORO']!='Missing']\n",
    "# Null Grades\n",
    "full_grade=pd.notnull(nydata['GRADE'])\n",
    "nydata=nydata[full_grade]\n",
    "nydata['BORO'].value_counts()"
   ]
  },
  {
   "cell_type": "code",
   "execution_count": 4,
   "metadata": {
    "collapsed": true
   },
   "outputs": [],
   "source": [
    "#rename columns, no spaces (this is convenient, we might get rid of it later)\n",
    "nydata.columns=[c.replace(' ','_') for c in nydata.columns]"
   ]
  },
  {
   "cell_type": "markdown",
   "metadata": {},
   "source": [
    "### change month to full name in 'INSPECTION_DATE'\n",
    "+ smaller DataFrame with just dates and grades\n",
    "+ change the 'INSPECTION DATE\" to datetime (core numpy datatype which supports datetime functionality, **datetime64 dtype**)\n",
    "+ also change index to **'INSPECTION DATE'**\n",
    "+ change index to print out year and month name only"
   ]
  },
  {
   "cell_type": "code",
   "execution_count": 5,
   "metadata": {
    "collapsed": false
   },
   "outputs": [
    {
     "name": "stdout",
     "output_type": "stream",
     "text": [
      "this took 69 seconds\n"
     ]
    }
   ],
   "source": [
    "#dates.index=dates.INSPECTION_DATE\n",
    "start = dt.datetime.now()\n",
    "dates = nydata[['INSPECTION_DATE','GRADE_DATE','GRADE']]\n",
    "dates.index =pd.to_datetime(nydata['INSPECTION_DATE'])\n",
    "print \"this took {} seconds\".format((dt.datetime.now()-start).seconds)\n",
    "#this takes a while"
   ]
  },
  {
   "cell_type": "code",
   "execution_count": 7,
   "metadata": {
    "collapsed": false
   },
   "outputs": [],
   "source": [
    "#rename to month name\n",
    "dates = dates.rename(index=lambda x:x.strftime('%Y-%B'))\n",
    "# and here we leave off the day (?) "
   ]
  },
  {
   "cell_type": "code",
   "execution_count": 8,
   "metadata": {
    "collapsed": false
   },
   "outputs": [
    {
     "data": {
      "text/html": [
       "<div>\n",
       "<table border=\"1\" class=\"dataframe\">\n",
       "  <thead>\n",
       "    <tr style=\"text-align: right;\">\n",
       "      <th></th>\n",
       "      <th>GRADE_DATE</th>\n",
       "      <th>GRADE</th>\n",
       "    </tr>\n",
       "    <tr>\n",
       "      <th>INSPECTION_DATE</th>\n",
       "      <th></th>\n",
       "      <th></th>\n",
       "    </tr>\n",
       "  </thead>\n",
       "  <tbody>\n",
       "    <tr>\n",
       "      <th>2015-February</th>\n",
       "      <td>02/04/2015</td>\n",
       "      <td>A</td>\n",
       "    </tr>\n",
       "    <tr>\n",
       "      <th>2015-February</th>\n",
       "      <td>02/09/2015</td>\n",
       "      <td>A</td>\n",
       "    </tr>\n",
       "    <tr>\n",
       "      <th>2014-August</th>\n",
       "      <td>08/16/2014</td>\n",
       "      <td>A</td>\n",
       "    </tr>\n",
       "  </tbody>\n",
       "</table>\n",
       "</div>"
      ],
      "text/plain": [
       "                 GRADE_DATE GRADE\n",
       "INSPECTION_DATE                  \n",
       "2015-February    02/04/2015     A\n",
       "2015-February    02/09/2015     A\n",
       "2014-August      08/16/2014     A"
      ]
     },
     "execution_count": 8,
     "metadata": {},
     "output_type": "execute_result"
    }
   ],
   "source": [
    "dates=dates[['GRADE_DATE', 'GRADE']]\n",
    "dates[:3]"
   ]
  },
  {
   "cell_type": "code",
   "execution_count": 9,
   "metadata": {
    "collapsed": false
   },
   "outputs": [
    {
     "name": "stdout",
     "output_type": "stream",
     "text": [
      "<class 'pandas.core.frame.DataFrame'>\n",
      "Index: 211708 entries, 2011-July to 2016-May\n",
      "Data columns (total 2 columns):\n",
      "GRADE_DATE    210049 non-null object\n",
      "GRADE         211708 non-null object\n",
      "dtypes: object(2)\n",
      "memory usage: 4.8+ MB\n"
     ]
    }
   ],
   "source": [
    "#Now sort it by date CHECK WHAT THE RANGE OF DATES IS? \n",
    "dates = dates.sort_index(axis=0)\n",
    "dates.info()"
   ]
  },
  {
   "cell_type": "markdown",
   "metadata": {},
   "source": [
    "### Remove 'Not Yet Graded' ~ defeats the purpose of plotting grades\n",
    "( there are about ~1600 'Not Yet Graded' but that's ok) \n",
    "**I want to plot A-Grades as function of time**\n",
    "\n",
    "1. what are the ranges of dates that are available?\n",
    "2. plot how many A's, B's etc. were awarded every month\n",
    "3. need to bin data into months"
   ]
  },
  {
   "cell_type": "code",
   "execution_count": 10,
   "metadata": {
    "collapsed": true
   },
   "outputs": [],
   "source": [
    "dates=dates[dates['GRADE']!='Not Yet Graded']"
   ]
  },
  {
   "cell_type": "markdown",
   "metadata": {},
   "source": [
    "### Divide dataframes by Grade, groupby INSPECTION_DATE to get a time  relationship\n",
    "+ want how many of each of the grades were awarded in each month during the time period"
   ]
  },
  {
   "cell_type": "code",
   "execution_count": 11,
   "metadata": {
    "collapsed": false
   },
   "outputs": [
    {
     "data": {
      "text/plain": [
       "INSPECTION_DATE\n",
       "2016-May    A\n",
       "2016-May    A\n",
       "2016-May    A\n",
       "2016-May    B\n",
       "2016-May    B\n",
       "Name: GRADE, dtype: object"
      ]
     },
     "execution_count": 11,
     "metadata": {},
     "output_type": "execute_result"
    }
   ],
   "source": [
    "dates['GRADE'][-5:]"
   ]
  },
  {
   "cell_type": "code",
   "execution_count": 25,
   "metadata": {
    "collapsed": true
   },
   "outputs": [],
   "source": [
    "#CALCULATE  ALL THE GRADES IN EACH MONTH\n",
    "def get_grade_count_month(gradestring):\n",
    "    # get the count of the grade in each month\n",
    "    tmp_grade = dates[dates['GRADE']==gradestring][['GRADE']]\n",
    "    # group by date: DATE IS IN INDEX\n",
    "    grouped_tmp = tmp_grade.groupby(tmp_grade.index)\n",
    "    return grouped_tmp.count()\n",
    "\n",
    "# count up the grades in each month\n",
    "grades_a = get_grade_count_month('A')\n",
    "grades_b = get_grade_count_month('B')\n",
    "grades_c = get_grade_count_month('C')\n",
    "grades_p = get_grade_count_month('P')\n",
    "grades_z = get_grade_count_month('Z')"
   ]
  },
  {
   "cell_type": "code",
   "execution_count": 37,
   "metadata": {
    "collapsed": false
   },
   "outputs": [
    {
     "data": {
      "text/plain": [
       "<matplotlib.legend.Legend at 0x1110ab150>"
      ]
     },
     "execution_count": 37,
     "metadata": {},
     "output_type": "execute_result"
    },
    {
     "data": {
      "image/png": "[encoded data removed]",
      "text/plain": [
       "<matplotlib.figure.Figure at 0x10fb6c8d0>"
      ]
     },
     "metadata": {},
     "output_type": "display_data"
    }
   ],
   "source": [
    "# test plots\n",
    "matplotlib.style.use('ggplot')\n",
    "grades_a.plot(figsize=(8,4), label='A grades')\n",
    "plt.legend(loc='upper left')\n",
    "#grades_b.plot()"
   ]
  },
  {
   "cell_type": "markdown",
   "metadata": {},
   "source": [
    "# scaling"
   ]
  },
  {
   "cell_type": "code",
   "execution_count": 87,
   "metadata": {
    "collapsed": false
   },
   "outputs": [],
   "source": [
    "#from sklearn import preprocessing\n",
    "grades_a_Scaled = preprocessing.scale(grades_a, with_mean=False)\n",
    "\n",
    "#add as a column to grades_a\n",
    "grades_a['scaled'] = grades_a_Scaled"
   ]
  },
  {
   "cell_type": "code",
   "execution_count": 88,
   "metadata": {
    "collapsed": false
   },
   "outputs": [
    {
     "data": {
      "text/html": [
       "<div>\n",
       "<table border=\"1\" class=\"dataframe\">\n",
       "  <thead>\n",
       "    <tr style=\"text-align: right;\">\n",
       "      <th></th>\n",
       "      <th>GRADE</th>\n",
       "      <th>scaled</th>\n",
       "    </tr>\n",
       "    <tr>\n",
       "      <th>INSPECTION_DATE</th>\n",
       "      <th></th>\n",
       "      <th></th>\n",
       "    </tr>\n",
       "  </thead>\n",
       "  <tbody>\n",
       "    <tr>\n",
       "      <th>2011-July</th>\n",
       "      <td>1</td>\n",
       "      <td>0.000569</td>\n",
       "    </tr>\n",
       "    <tr>\n",
       "      <th>2011-October</th>\n",
       "      <td>2</td>\n",
       "      <td>0.001137</td>\n",
       "    </tr>\n",
       "    <tr>\n",
       "      <th>2012-August</th>\n",
       "      <td>188</td>\n",
       "      <td>0.106908</td>\n",
       "    </tr>\n",
       "  </tbody>\n",
       "</table>\n",
       "</div>"
      ],
      "text/plain": [
       "                 GRADE    scaled\n",
       "INSPECTION_DATE                 \n",
       "2011-July            1  0.000569\n",
       "2011-October         2  0.001137\n",
       "2012-August        188  0.106908"
      ]
     },
     "execution_count": 88,
     "metadata": {},
     "output_type": "execute_result"
    }
   ],
   "source": [
    "grades_a[:3]"
   ]
  },
  {
   "cell_type": "code",
   "execution_count": 89,
   "metadata": {
    "collapsed": false
   },
   "outputs": [
    {
     "data": {
      "text/plain": [
       "<matplotlib.axes._subplots.AxesSubplot at 0x110ec01d0>"
      ]
     },
     "execution_count": 89,
     "metadata": {},
     "output_type": "execute_result"
    },
    {
     "data": {
      "image/png": "[encoded data removed]",
      "text/plain": [
       "<matplotlib.figure.Figure at 0x110ecf8d0>"
      ]
     },
     "metadata": {},
     "output_type": "display_data"
    }
   ],
   "source": [
    "grades_a['scaled'].plot(figsize=(8,4))"
   ]
  },
  {
   "cell_type": "code",
   "execution_count": null,
   "metadata": {
    "collapsed": true
   },
   "outputs": [],
   "source": []
  },
  {
   "cell_type": "markdown",
   "metadata": {},
   "source": [
    "+ to place data above zero?  (centers around 0, this is not actually what we want); set with_mean=False\n",
    "+ can we do something else to it? \n",
    "## Normalization\n",
    "http://scikit-learn.org/stable/modules/generated/sklearn.preprocessing.Normalizer.html#sklearn.preprocessing.Normalizer\n",
    "and\n",
    "http://scikit-learn.org/stable/modules/preprocessing.html#normalization\n",
    "+ for some reason have problem adding more than one column to data frame\n",
    "+ ** HAD TO DELETE 'SCALED' FOR NOW ** \n",
    "+ figure this out later "
   ]
  },
  {
   "cell_type": "code",
   "execution_count": 98,
   "metadata": {
    "collapsed": false
   },
   "outputs": [],
   "source": [
    "#from sklearn import preprocessing\n",
    "grades_a_Norm = preprocessing.normalize(grades_a, norm='l1')   # try L2 and L1\n",
    "\n",
    "# add to grades_a\n",
    "grades_a['norm']= grades_a_Norm\n",
    "#grades_a_Norm.shape"
   ]
  },
  {
   "cell_type": "code",
   "execution_count": 100,
   "metadata": {
    "collapsed": false
   },
   "outputs": [
    {
     "data": {
      "text/html": [
       "<div>\n",
       "<table border=\"1\" class=\"dataframe\">\n",
       "  <thead>\n",
       "    <tr style=\"text-align: right;\">\n",
       "      <th></th>\n",
       "      <th>GRADE</th>\n",
       "      <th>norm</th>\n",
       "    </tr>\n",
       "    <tr>\n",
       "      <th>INSPECTION_DATE</th>\n",
       "      <th></th>\n",
       "      <th></th>\n",
       "    </tr>\n",
       "  </thead>\n",
       "  <tbody>\n",
       "    <tr>\n",
       "      <th>2011-July</th>\n",
       "      <td>1</td>\n",
       "      <td>0.500000</td>\n",
       "    </tr>\n",
       "    <tr>\n",
       "      <th>2011-October</th>\n",
       "      <td>2</td>\n",
       "      <td>0.666667</td>\n",
       "    </tr>\n",
       "    <tr>\n",
       "      <th>2012-August</th>\n",
       "      <td>188</td>\n",
       "      <td>0.994709</td>\n",
       "    </tr>\n",
       "  </tbody>\n",
       "</table>\n",
       "</div>"
      ],
      "text/plain": [
       "                 GRADE      norm\n",
       "INSPECTION_DATE                 \n",
       "2011-July            1  0.500000\n",
       "2011-October         2  0.666667\n",
       "2012-August        188  0.994709"
      ]
     },
     "execution_count": 100,
     "metadata": {},
     "output_type": "execute_result"
    }
   ],
   "source": [
    "#del grades_a['norm']\n",
    "#del grades_a['scaled']\n",
    "grades_a[:3]\n"
   ]
  },
  {
   "cell_type": "code",
   "execution_count": 101,
   "metadata": {
    "collapsed": false
   },
   "outputs": [
    {
     "data": {
      "text/plain": [
       "<matplotlib.axes._subplots.AxesSubplot at 0x111163210>"
      ]
     },
     "execution_count": 101,
     "metadata": {},
     "output_type": "execute_result"
    },
    {
     "data": {
      "image/png": "[encoded data removed]",
      "text/plain": [
       "<matplotlib.figure.Figure at 0x112965090>"
      ]
     },
     "metadata": {},
     "output_type": "display_data"
    }
   ],
   "source": [
    "grades_a['norm'].plot(figsize=(8,4))"
   ]
  },
  {
   "cell_type": "code",
   "execution_count": null,
   "metadata": {
    "collapsed": true
   },
   "outputs": [],
   "source": []
  },
  {
   "cell_type": "markdown",
   "metadata": {},
   "source": [
    "ok, well at this point I'm not sure what to do\n",
    "\n",
    "It appears as though the number of A-grades awarded to all restaurants is increasing over time. It might be a good idea to get a smoother curve though \n",
    "Things I could do to fix this: \n",
    "+ group the data every two months ? \n",
    "+ rather than the number, show this data as the fraction/percentage of all awarded grades? \n",
    "\n",
    "#### issues with grade quantity comparison\n",
    "It is also obvious that far more grades were awarded from September 2012. Without some Normalization or Standardization on the data, it makes no sense to compare the early data to the later one"
   ]
  },
  {
   "cell_type": "code",
   "execution_count": 43,
   "metadata": {
    "collapsed": false
   },
   "outputs": [],
   "source": [
    "#nydata=nydata.sort_index(axis=0)\n",
    "#nydata[['INSPECTION_DATE', 'GRADE']].sort_values('INSPECTION_DATE', ascending=True)"
   ]
  },
  {
   "cell_type": "markdown",
   "metadata": {},
   "source": [
    "+ used groupby.describe() to see summaries of various stats\n",
    "#### TOTAL NUMBER of Grades, per month"
   ]
  },
  {
   "cell_type": "code",
   "execution_count": 38,
   "metadata": {
    "collapsed": false
   },
   "outputs": [],
   "source": [
    "# find out the TOTAL NUMBER OF GRADES in each month\n",
    "grouped_total=dates[['GRADE']].groupby(dates.index)#.describe()\n",
    "grade_total= grouped_total.count()\n",
    "#grouped_total.describe()[:5]"
   ]
  },
  {
   "cell_type": "code",
   "execution_count": 33,
   "metadata": {
    "collapsed": false
   },
   "outputs": [],
   "source": [
    "## CALCULATE as fraction of total\n",
    "def grade_percent(grade_count):\n",
    "    return (grade_count/grade_total)*100\n",
    "\n",
    "grades_a_time = grade_percent(grades_a)\n",
    "#grades_b_time = grade_percent(grouped_b.count())\n",
    "grades_c_time = grade_percent(grades_c)\n",
    "#grades_p_time = grade_percent(grouped_p.count())\n",
    "#grades_z_time = grade_percent(grouped_a.count())\n",
    "\n",
    "#data = {'A':grades_a_time.values, 'B':grades_b_time.values , 'C':grades_c_time.values,\n",
    "#        'Z':grades_z_time.values,\n",
    "#     'P':grades_p_time.values} \n",
    "#df = pd.DataFrame(data, index=column)"
   ]
  },
  {
   "cell_type": "code",
   "execution_count": 34,
   "metadata": {
    "collapsed": false
   },
   "outputs": [
    {
     "data": {
      "text/plain": [
       "<matplotlib.axes._subplots.AxesSubplot at 0x111daf590>"
      ]
     },
     "execution_count": 34,
     "metadata": {},
     "output_type": "execute_result"
    },
    {
     "data": {
      "image/png": "[encoded data removed]",
      "text/plain": [
       "<matplotlib.figure.Figure at 0x1110abad0>"
      ]
     },
     "metadata": {},
     "output_type": "display_data"
    }
   ],
   "source": [
    "grades_a_time.plot(figsize=(8,4))"
   ]
  },
  {
   "cell_type": "markdown",
   "metadata": {
    "collapsed": false
   },
   "source": [
    "## before continuing, I need to do some standardization/normalization on my data\n",
    "grades_a is how many A's there are in each month\n"
   ]
  },
  {
   "cell_type": "code",
   "execution_count": 43,
   "metadata": {
    "collapsed": false
   },
   "outputs": [],
   "source": [
    "grades_a_time.values;"
   ]
  },
  {
   "cell_type": "code",
   "execution_count": 52,
   "metadata": {
    "collapsed": false
   },
   "outputs": [],
   "source": [
    "column = grades_a_time.index.values"
   ]
  },
  {
   "cell_type": "code",
   "execution_count": 60,
   "metadata": {
    "collapsed": false
   },
   "outputs": [
    {
     "data": {
      "text/plain": [
       "GRADE    float64\n",
       "dtype: object"
      ]
     },
     "execution_count": 60,
     "metadata": {},
     "output_type": "execute_result"
    }
   ],
   "source": [
    "grades_a_time.dtypes"
   ]
  },
  {
   "cell_type": "markdown",
   "metadata": {},
   "source": [
    "#### PLOTTING ISSUES AGAIN\n",
    " **ax1.plot(grades_a_time) # need to make sure all in floats ** << does not work \n",
    " I get a value error ValueError: invalid literal for float():"
   ]
  },
  {
   "cell_type": "code",
   "execution_count": 36,
   "metadata": {
    "collapsed": false
   },
   "outputs": [
    {
     "data": {
      "image/png": "[encoded data removed]",
      "text/plain": [
       "<matplotlib.figure.Figure at 0x1109a31d0>"
      ]
     },
     "metadata": {},
     "output_type": "display_data"
    }
   ],
   "source": [
    "import matplotlib.ticker as mtick\n",
    "\n",
    "matplotlib.style.use('ggplot')\n",
    "\n",
    "#### put on same plot? \n",
    "\n",
    "#for i in range(2):\n",
    "    #create a matplotlib figure instance; # FIG IS AN OBJECT\n",
    "fig = plt.figure() #size=(10,5)\n",
    "    #this object's add_subplot method is then called for every plotting window\n",
    "ax1 = fig.add_subplot(111)\n",
    "ax2 = fig.add_subplot(111)\n",
    "    \n",
    "    #get your ax from here ### PLOT\n",
    "grades_a_time.plot(ax=ax1,figsize=(10,5)) \n",
    "grades_c_time.plot(ax=ax2)\n",
    "    #ax1.plot(grades_a_time) # need to make sure all in floats\n",
    "\n",
    "\n",
    "plt.legend(['A-Grades', 'C-Grades'], loc='upper right')#,labels=\"A-Grades\")\n",
    "\n",
    "#%format yticks as percentages \n",
    "fmt= '%.0f%%' # Format you want the ticks, e.g. '40%'\n",
    "yticks = mtick.FormatStrFormatter(fmt)\n",
    "ax1.yaxis.set_major_formatter(yticks)\n"
   ]
  },
  {
   "cell_type": "code",
   "execution_count": null,
   "metadata": {
    "collapsed": true
   },
   "outputs": [],
   "source": [
    "# grades_z_time.plot(figsize=(10,5))\n",
    "#grades_p_time.plot(figsize=(10,5))"
   ]
  },
  {
   "cell_type": "markdown",
   "metadata": {},
   "source": [
    "### observations on plot A\n",
    "+ decem. 2013 are about the same % pointss as Aug.2015\n",
    "+ \n",
    "\n",
    "1. it looks like at the beginning there are only A grades, maybe not enough grades assigned\n",
    "2. some B and C grades might have to be interpolated  -- have to interpolate\n",
    "3. What is grade 'Z' and 'P'? if I knnow this it might be helpful in figuring out if I wanna keep it \n",
    "\n",
    "another issue that should be looked it is how to handle the first couple of data in 2011. since only A's were awarded it's not very illuminating.\n",
    "What if I divide everything out by the average?  Would this change anything? "
   ]
  },
  {
   "cell_type": "code",
   "execution_count": 29,
   "metadata": {
    "collapsed": false
   },
   "outputs": [
    {
     "data": {
      "text/html": [
       "<div>\n",
       "<table border=\"1\" class=\"dataframe\">\n",
       "  <thead>\n",
       "    <tr style=\"text-align: right;\">\n",
       "      <th></th>\n",
       "      <th>GRADE</th>\n",
       "    </tr>\n",
       "    <tr>\n",
       "      <th>INSPECTION_DATE</th>\n",
       "      <th></th>\n",
       "    </tr>\n",
       "  </thead>\n",
       "  <tbody>\n",
       "    <tr>\n",
       "      <th>2015-October</th>\n",
       "      <td>4113</td>\n",
       "    </tr>\n",
       "    <tr>\n",
       "      <th>2015-September</th>\n",
       "      <td>3633</td>\n",
       "    </tr>\n",
       "    <tr>\n",
       "      <th>2016-April</th>\n",
       "      <td>5266</td>\n",
       "    </tr>\n",
       "    <tr>\n",
       "      <th>2016-August</th>\n",
       "      <td>889</td>\n",
       "    </tr>\n",
       "    <tr>\n",
       "      <th>2016-February</th>\n",
       "      <td>4787</td>\n",
       "    </tr>\n",
       "    <tr>\n",
       "      <th>2016-January</th>\n",
       "      <td>4333</td>\n",
       "    </tr>\n",
       "    <tr>\n",
       "      <th>2016-July</th>\n",
       "      <td>2645</td>\n",
       "    </tr>\n",
       "    <tr>\n",
       "      <th>2016-June</th>\n",
       "      <td>4996</td>\n",
       "    </tr>\n",
       "    <tr>\n",
       "      <th>2016-March</th>\n",
       "      <td>5413</td>\n",
       "    </tr>\n",
       "    <tr>\n",
       "      <th>2016-May</th>\n",
       "      <td>5093</td>\n",
       "    </tr>\n",
       "  </tbody>\n",
       "</table>\n",
       "</div>"
      ],
      "text/plain": [
       "                 GRADE\n",
       "INSPECTION_DATE       \n",
       "2015-October      4113\n",
       "2015-September    3633\n",
       "2016-April        5266\n",
       "2016-August        889\n",
       "2016-February     4787\n",
       "2016-January      4333\n",
       "2016-July         2645\n",
       "2016-June         4996\n",
       "2016-March        5413\n",
       "2016-May          5093"
      ]
     },
     "execution_count": 29,
     "metadata": {},
     "output_type": "execute_result"
    }
   ],
   "source": [
    "grades_a_time[-10:]"
   ]
  },
  {
   "cell_type": "code",
   "execution_count": null,
   "metadata": {
    "collapsed": true
   },
   "outputs": [],
   "source": [
    "# not sure why this... \n",
    "\n",
    "a1=[]\n",
    "for a in grades_a_time.values:\n",
    "    a1.append(a)\n",
    "    #print \" iterator is \", a\n",
    "    #type(a)\n",
    "#b1=[]\n",
    "#for b in grades_b_time.values:\n",
    "    #b1.append(b)    \n",
    "#data1 = {'A':a1, 'B':b1}\n",
    "#df = pd.DataFrame(data, index=column)\n",
    "a1;"
   ]
  }
 ],
 "metadata": {
  "kernelspec": {
   "display_name": "Python 2",
   "language": "python",
   "name": "python2"
  },
  "language_info": {
   "codemirror_mode": {
    "name": "ipython",
    "version": 2
   },
   "file_extension": ".py",
   "mimetype": "text/x-python",
   "name": "python",
   "nbconvert_exporter": "python",
   "pygments_lexer": "ipython2",
   "version": "2.7.11"
  }
 },
 "nbformat": 4,
 "nbformat_minor": 0
}
