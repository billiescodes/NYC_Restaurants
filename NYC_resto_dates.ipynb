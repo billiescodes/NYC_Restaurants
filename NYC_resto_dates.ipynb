{
 "cells": [
  {
   "cell_type": "markdown",
   "metadata": {},
   "source": [
    "# NYC restaurant data\n",
    "\n",
    "my ongoing project in understanding NYC restaurant data\n",
    "I would like to see how violations happen across the city, if there are some interesting trends to note there\n",
    "Using this data set to learn exploration etc. \n",
    "\n",
    "\n",
    "In this notebook am interested in looking how the grades change over time. One of the first ideas that came to me was to aggregate all the grades in each month and plot that. That further evolved in changing the bin size of grade counts to 2 or 3 months, for a smoother curve. The data for the first year (July 2011 -- July 2012) is too sparse. It's unclear to me why those months do not contain enough inspections, and those data were left out in the end. \n",
    "\n",
    "\n",
    "I expect the number of grades to increase, and hopefully more As than any other grade, indicating that since 2012 Restaurants in NYC have conformed more to the cleanliness standards.\n",
    "\n",
    "\n",
    "\n",
    "https://data.cityofnewyork.us/Health/DOHMH-New-York-City-Restaurant-Inspection-Results/xx67-kt59\n",
    "\n",
    "#### Questions:\n",
    "+ Are there more A grades being awarded over time? \n",
    "+ Could this be because the restaurants are becoming cleaner? \n",
    "+ NOTE: I've worked with Inspection Dates rather than Grade Dates so far; the choice was originally arbitrary, but I have no reason to believe this to cause a problem \n",
    "\n",
    "#### Next Steps To Do:\n",
    "+ What if I did the same exercise for only the most popular cuisines\n",
    "+ what is required to get an A vs. any other grade\n",
    "    + meaning what is the maximum number/type of violation to still receive an A \n"
   ]
  },
  {
   "cell_type": "code",
   "execution_count": 1,
   "metadata": {
    "collapsed": true
   },
   "outputs": [],
   "source": [
    "import pandas as pd\n",
    "import numpy as np\n",
    "import datetime as dt \n",
    "import matplotlib\n",
    "import matplotlib.pyplot as plt\n",
    "\n",
    "%matplotlib inline\n",
    "\n",
    "import ggplot"
   ]
  },
  {
   "cell_type": "code",
   "execution_count": 2,
   "metadata": {
    "collapsed": false
   },
   "outputs": [
    {
     "name": "stdout",
     "output_type": "stream",
     "text": [
      "the loading took 3 seconds \n"
     ]
    }
   ],
   "source": [
    "start = dt.datetime.now()\n",
    "nydata = pd.read_csv('NYC_Resto.csv')\n",
    "\n",
    "print \"the loading took {} seconds \".format((dt.datetime.now()-start).seconds)"
   ]
  },
  {
   "cell_type": "markdown",
   "metadata": {},
   "source": [
    "### Some Data cleaning\n",
    "+ remove unnecessary columns\n",
    "+ remove 'Missing' values from the BORO column\n",
    "+ remove 'Null' grades \n",
    "+ rename columns (temp) \n",
    "+ new DataFrame: **dates**\n",
    "+ rename columns with spaces for convenience\n",
    "+ remove GRADE ==  'Not Yet Graded' "
   ]
  },
  {
   "cell_type": "code",
   "execution_count": 3,
   "metadata": {
    "collapsed": true
   },
   "outputs": [],
   "source": [
    "# unnecessary columns\n",
    "nydata = nydata.drop(['CAMIS','PHONE','ZIPCODE','STREET', 'BUILDING','RECORD DATE'], axis=1)\n",
    "# 'Missing' Boros\n",
    "nydata = nydata[nydata['BORO']!='Missing']\n",
    "# Null Grades\n",
    "full_grade=pd.notnull(nydata['GRADE'])\n",
    "nydata=nydata[full_grade]\n",
    "nydata['BORO'].value_counts()\n",
    "\n",
    "\n",
    "# in the GRADE column: remove NYG and Z, P (far too few to matter!)\n",
    "nydata=nydata[nydata['GRADE']!='Not Yet Graded']\n",
    "nydata=nydata[nydata['GRADE']!='P']\n",
    "nydata=nydata[nydata['GRADE']!='Z']\n",
    "    # there are a total of  3086 Z grades, but they don't seem to affect the total "
   ]
  },
  {
   "cell_type": "markdown",
   "metadata": {},
   "source": [
    "### Work with smaller Data Frame\n",
    "+ get a smaller DataFrame with just dates and grades (faster and smaller)\n",
    "+ change Index to column:**'INSPECTION DATE'** \n",
    "+ create a DateTime Indexfrom \"Inspection dates\" "
   ]
  },
  {
   "cell_type": "code",
   "execution_count": 4,
   "metadata": {
    "collapsed": false
   },
   "outputs": [
    {
     "name": "stdout",
     "output_type": "stream",
     "text": [
      "this took 67 seconds\n"
     ]
    }
   ],
   "source": [
    "#dates.index=dates.INSPECTION_DATE\n",
    "start = dt.datetime.now()\n",
    "dates = nydata[['INSPECTION DATE','GRADE']]\n",
    "dates.index =pd.to_datetime(nydata['INSPECTION DATE'])\n",
    "dates = dates.sort_index(axis=0)\n",
    "print \"this took {} seconds\".format((dt.datetime.now()-start).seconds)\n",
    "\n",
    "#this takes a while"
   ]
  },
  {
   "cell_type": "markdown",
   "metadata": {},
   "source": [
    "### remove the 2011 grades right away\n",
    "\n",
    "\n",
    "When looking at the Cumulative Grades over time with bins of 1 month  (way below), taking all available data in consideration, the 'GRADES' data in the first year **( July-2011 to July-2012)** is sparse. As a result that part of the data is not meaningful when trying to plot what kind of grades were assigned over time. For instance, if DOHMH (Department of Health and Mental Hygene) assigned more A's, it could be because fewer violations were commited. Maybe as a result of changed policy? \n",
    "It makes sense to remove the first year of data altogether. The new DataFrame starts at **August 2012**\n"
   ]
  },
  {
   "cell_type": "code",
   "execution_count": 5,
   "metadata": {
    "collapsed": true
   },
   "outputs": [],
   "source": [
    "#the first 45 observations will be removed\n",
    "column = ['2011-07-26', '2011-10-07', '2011-10-07', '2012-03-15',\n",
    "               '2012-03-15', '2012-05-01', '2012-05-01', '2012-06-01',\n",
    "               '2012-06-01', '2012-06-23', '2012-07-09', '2012-07-09', '2012-07-09', '2012-07-11',\n",
    "               '2012-07-11', '2012-07-11', '2012-07-18', '2012-07-18',\n",
    "               '2012-07-18', '2012-07-18', '2012-07-18', '2012-07-24',\n",
    "               '2012-07-24', '2012-07-24', '2012-07-24', '2012-07-25',\n",
    "               '2012-07-25', '2012-07-25', '2012-07-25', '2012-07-25',\n",
    "               '2012-07-25', '2012-07-25', '2012-07-25', '2012-07-25',\n",
    "               '2012-07-26', '2012-07-26', '2012-07-26', '2012-07-26',\n",
    "               '2012-07-26', '2012-07-27', '2012-07-27', '2012-07-30',\n",
    "               '2012-07-30', '2012-07-31', '2012-07-31']\n",
    "dates = dates.drop(column, axis=0)"
   ]
  },
  {
   "cell_type": "code",
   "execution_count": 6,
   "metadata": {
    "collapsed": false
   },
   "outputs": [
    {
     "data": {
      "text/html": [
       "<div>\n",
       "<table border=\"1\" class=\"dataframe\">\n",
       "  <thead>\n",
       "    <tr style=\"text-align: right;\">\n",
       "      <th></th>\n",
       "      <th>INSPECTION DATE</th>\n",
       "      <th>GRADE</th>\n",
       "    </tr>\n",
       "    <tr>\n",
       "      <th>INSPECTION DATE</th>\n",
       "      <th></th>\n",
       "      <th></th>\n",
       "    </tr>\n",
       "  </thead>\n",
       "  <tbody>\n",
       "    <tr>\n",
       "      <th>2016-08-05</th>\n",
       "      <td>08/05/2016</td>\n",
       "      <td>A</td>\n",
       "    </tr>\n",
       "    <tr>\n",
       "      <th>2016-08-05</th>\n",
       "      <td>08/05/2016</td>\n",
       "      <td>A</td>\n",
       "    </tr>\n",
       "    <tr>\n",
       "      <th>2016-08-05</th>\n",
       "      <td>08/05/2016</td>\n",
       "      <td>A</td>\n",
       "    </tr>\n",
       "    <tr>\n",
       "      <th>2016-08-05</th>\n",
       "      <td>08/05/2016</td>\n",
       "      <td>A</td>\n",
       "    </tr>\n",
       "    <tr>\n",
       "      <th>2016-08-05</th>\n",
       "      <td>08/05/2016</td>\n",
       "      <td>A</td>\n",
       "    </tr>\n",
       "    <tr>\n",
       "      <th>2016-08-05</th>\n",
       "      <td>08/05/2016</td>\n",
       "      <td>A</td>\n",
       "    </tr>\n",
       "    <tr>\n",
       "      <th>2016-08-05</th>\n",
       "      <td>08/05/2016</td>\n",
       "      <td>A</td>\n",
       "    </tr>\n",
       "    <tr>\n",
       "      <th>2016-08-05</th>\n",
       "      <td>08/05/2016</td>\n",
       "      <td>A</td>\n",
       "    </tr>\n",
       "    <tr>\n",
       "      <th>2016-08-05</th>\n",
       "      <td>08/05/2016</td>\n",
       "      <td>A</td>\n",
       "    </tr>\n",
       "    <tr>\n",
       "      <th>2016-08-05</th>\n",
       "      <td>08/05/2016</td>\n",
       "      <td>A</td>\n",
       "    </tr>\n",
       "  </tbody>\n",
       "</table>\n",
       "</div>"
      ],
      "text/plain": [
       "                INSPECTION DATE GRADE\n",
       "INSPECTION DATE                      \n",
       "2016-08-05           08/05/2016     A\n",
       "2016-08-05           08/05/2016     A\n",
       "2016-08-05           08/05/2016     A\n",
       "2016-08-05           08/05/2016     A\n",
       "2016-08-05           08/05/2016     A\n",
       "2016-08-05           08/05/2016     A\n",
       "2016-08-05           08/05/2016     A\n",
       "2016-08-05           08/05/2016     A\n",
       "2016-08-05           08/05/2016     A\n",
       "2016-08-05           08/05/2016     A"
      ]
     },
     "execution_count": 6,
     "metadata": {},
     "output_type": "execute_result"
    }
   ],
   "source": [
    "dates[-10:]"
   ]
  },
  {
   "cell_type": "code",
   "execution_count": null,
   "metadata": {
    "collapsed": true
   },
   "outputs": [],
   "source": []
  },
  {
   "cell_type": "markdown",
   "metadata": {},
   "source": [
    "# Group Index: group by year-month\n"
   ]
  },
  {
   "cell_type": "code",
   "execution_count": 7,
   "metadata": {
    "collapsed": false
   },
   "outputs": [
    {
     "data": {
      "text/plain": [
       "array(['A', 'C', 'B'], dtype=object)"
      ]
     },
     "execution_count": 7,
     "metadata": {},
     "output_type": "execute_result"
    }
   ],
   "source": [
    "#these are the three grades we will be looking at\n",
    "dates['GRADE'].unique()"
   ]
  },
  {
   "cell_type": "markdown",
   "metadata": {},
   "source": [
    "## Count up all Unique Grades in bins of one month\n",
    "+ plots (in correct order, ie. year) for all the unique (A,B,C) grades\n",
    "+ The first sampling is in 1M bins \n",
    "+ Change numeric month to Calendar Name (i.e. Jan, Feb, etc) "
   ]
  },
  {
   "cell_type": "code",
   "execution_count": 6,
   "metadata": {
    "collapsed": true
   },
   "outputs": [],
   "source": [
    "#CALCULATE  ALL THE GRADES IN EACH MONTH\n",
    "def get_grade_count_month(gradestring):\n",
    "    # get the count of the grade in each month\n",
    "    tmp_grade = dates[dates['GRADE']==gradestring][['GRADE']]\n",
    "    \n",
    "    #change index period to: Month, becomes PeriodIndex\n",
    "    tmp_grade.index = tmp_grade.index.to_period('M')\n",
    "    # group by date: DATE IS IN INDEX\n",
    "    grouped = tmp_grade.groupby(tmp_grade.index)    \n",
    "    \n",
    "    return grouped.count()\n",
    "\n",
    "# count up the grades in each month\n",
    "grades_a = get_grade_count_month('A')\n",
    "grades_b = get_grade_count_month('B')\n",
    "grades_c = get_grade_count_month('C')\n",
    "\n",
    "\n",
    "#change the numeric month to Calendar name\n",
    "grades_a = grades_a.rename(index=lambda x:x.strftime('%Y-%B'))\n",
    "grades_b = grades_b.rename(index=lambda x:x.strftime('%Y-%B'))\n",
    "grades_c = grades_c.rename(index=lambda x:x.strftime('%Y-%B'))"
   ]
  },
  {
   "cell_type": "markdown",
   "metadata": {},
   "source": [
    "It's best to place all the individual grade counts in one Data Frame"
   ]
  },
  {
   "cell_type": "code",
   "execution_count": 7,
   "metadata": {
    "collapsed": true
   },
   "outputs": [],
   "source": [
    "# put the Grade-counts for: A,B,C grades, into single DataFrame\n",
    "tmp = grades_a\n",
    "\n",
    "grades = tmp\n",
    "grades['B Grades'] = grades_b\n",
    "grades['C Grades '] = grades_c\n",
    "##rename A Grades\n",
    "grades = grades.rename(index=str, columns={\"GRADE\":\"A Grades\"})\n"
   ]
  },
  {
   "cell_type": "code",
   "execution_count": 8,
   "metadata": {
    "collapsed": false
   },
   "outputs": [
    {
     "data": {
      "text/html": [
       "<div>\n",
       "<table border=\"1\" class=\"dataframe\">\n",
       "  <thead>\n",
       "    <tr style=\"text-align: right;\">\n",
       "      <th></th>\n",
       "      <th>A Grades</th>\n",
       "      <th>B Grades</th>\n",
       "      <th>C Grades</th>\n",
       "    </tr>\n",
       "    <tr>\n",
       "      <th>INSPECTION DATE</th>\n",
       "      <th></th>\n",
       "      <th></th>\n",
       "      <th></th>\n",
       "    </tr>\n",
       "  </thead>\n",
       "  <tbody>\n",
       "    <tr>\n",
       "      <th>2016-March</th>\n",
       "      <td>5413</td>\n",
       "      <td>750.0</td>\n",
       "      <td>232.0</td>\n",
       "    </tr>\n",
       "    <tr>\n",
       "      <th>2016-April</th>\n",
       "      <td>5266</td>\n",
       "      <td>699.0</td>\n",
       "      <td>128.0</td>\n",
       "    </tr>\n",
       "    <tr>\n",
       "      <th>2016-May</th>\n",
       "      <td>5093</td>\n",
       "      <td>535.0</td>\n",
       "      <td>97.0</td>\n",
       "    </tr>\n",
       "    <tr>\n",
       "      <th>2016-June</th>\n",
       "      <td>4996</td>\n",
       "      <td>1135.0</td>\n",
       "      <td>295.0</td>\n",
       "    </tr>\n",
       "    <tr>\n",
       "      <th>2016-July</th>\n",
       "      <td>2645</td>\n",
       "      <td>100.0</td>\n",
       "      <td>56.0</td>\n",
       "    </tr>\n",
       "  </tbody>\n",
       "</table>\n",
       "</div>"
      ],
      "text/plain": [
       "                 A Grades  B Grades  C Grades \n",
       "INSPECTION DATE                               \n",
       "2016-March           5413     750.0      232.0\n",
       "2016-April           5266     699.0      128.0\n",
       "2016-May             5093     535.0       97.0\n",
       "2016-June            4996    1135.0      295.0\n",
       "2016-July            2645     100.0       56.0"
      ]
     },
     "execution_count": 8,
     "metadata": {},
     "output_type": "execute_result"
    }
   ],
   "source": [
    "# REMOVE August 2016 :: INvestigate why no B/C grades? This looks like incomplete data\n",
    "grades = grades.drop('2016-August',axis=0)\n",
    "grades[-5:]\n"
   ]
  },
  {
   "cell_type": "code",
   "execution_count": 9,
   "metadata": {
    "collapsed": false
   },
   "outputs": [
    {
     "data": {
      "text/html": [
       "<div>\n",
       "<table border=\"1\" class=\"dataframe\">\n",
       "  <thead>\n",
       "    <tr style=\"text-align: right;\">\n",
       "      <th></th>\n",
       "      <th>GRADE</th>\n",
       "    </tr>\n",
       "    <tr>\n",
       "      <th>INSPECTION DATE</th>\n",
       "      <th></th>\n",
       "    </tr>\n",
       "  </thead>\n",
       "  <tbody>\n",
       "    <tr>\n",
       "      <th>2016-March</th>\n",
       "      <td>5413</td>\n",
       "    </tr>\n",
       "    <tr>\n",
       "      <th>2016-April</th>\n",
       "      <td>5266</td>\n",
       "    </tr>\n",
       "    <tr>\n",
       "      <th>2016-May</th>\n",
       "      <td>5093</td>\n",
       "    </tr>\n",
       "    <tr>\n",
       "      <th>2016-June</th>\n",
       "      <td>4996</td>\n",
       "    </tr>\n",
       "    <tr>\n",
       "      <th>2016-July</th>\n",
       "      <td>2645</td>\n",
       "    </tr>\n",
       "  </tbody>\n",
       "</table>\n",
       "</div>"
      ],
      "text/plain": [
       "                 GRADE\n",
       "INSPECTION DATE       \n",
       "2016-March        5413\n",
       "2016-April        5266\n",
       "2016-May          5093\n",
       "2016-June         4996\n",
       "2016-July         2645"
      ]
     },
     "execution_count": 9,
     "metadata": {},
     "output_type": "execute_result"
    }
   ],
   "source": [
    "grades_a =grades[['A Grades']]\n",
    "#restore original grades_a\n",
    "\n",
    "grades_a = grades_a.rename(index=str, columns={\"A Grades\": \"GRADE\"})\n",
    "grades_a[-5:]"
   ]
  },
  {
   "cell_type": "markdown",
   "metadata": {},
   "source": [
    "### plot Dataframe grades; Total number of grades awarded, in bins of 1 Month"
   ]
  },
  {
   "cell_type": "code",
   "execution_count": 12,
   "metadata": {
    "collapsed": false
   },
   "outputs": [
    {
     "data": {
      "text/plain": [
       "<matplotlib.text.Text at 0x1132f6cd0>"
      ]
     },
     "execution_count": 12,
     "metadata": {},
     "output_type": "execute_result"
    },
    {
     "data": {
      "image/png": "[encoded data removed]",
      "text/plain": [
       "<matplotlib.figure.Figure at 0x11462b790>"
      ]
     },
     "metadata": {},
     "output_type": "display_data"
    }
   ],
   "source": [
    "matplotlib.style.use('ggplot')\n",
    "\n",
    "fig = plt.figure(figsize = (10,5))\n",
    "    #this object's add_subplot method is then called for every plotting window\n",
    "ax1 = fig.add_subplot(111)\n",
    "\n",
    "grades.plot(ax=ax1)\n",
    "\n",
    "plt.legend(['A-Grades', 'B-Grades','C-Grades'], loc='upper left')\n",
    "plt.title( \"TOTAL number of passing letter grades awarded per month\", fontsize=18)"
   ]
  },
  {
   "cell_type": "markdown",
   "metadata": {},
   "source": [
    "\n",
    "The raw numbers show that there are significantly more A-grades awarded to restaurants, than other grades. It may be useful at this point to scale the data\n",
    "###What is the % share of each A grade of total number grades?\n",
    "\n",
    "\n"
   ]
  },
  {
   "cell_type": "markdown",
   "metadata": {},
   "source": [
    "## TOTAL GRADES: use Resample to group Grade counts to every 2 Months\n",
    "+ before grouping, pick only 'GRADE' column from dates DataFrame\n",
    "+ before resample: need numeric data, use grouped .count()\n",
    "+ API reference: http://pandas.pydata.org/pandas-docs/version/0.17.0/generated/pandas.DataFrame.resample.html\n",
    "\n",
    "+ use original data:  **dates[['GRADE']]**\n",
    "+ but afterwards: **remove August 2016** (like for grades DataFrame) "
   ]
  },
  {
   "cell_type": "code",
   "execution_count": 13,
   "metadata": {
    "collapsed": true
   },
   "outputs": [],
   "source": [
    "# 1. change TIME PERIOD to month only for EACH OBSERVATION\n",
    "tmp = dates[['GRADE']]\n",
    "tmp.index = tmp.index.to_period('M')\n",
    "\n",
    "# 2. group TOTAL number grades per month\n",
    "grouped_dates = tmp.groupby(tmp.index)\n",
    "\n",
    "# 3. count up the numer of grades in each month\n",
    "dates_count=grouped_dates.count()\n"
   ]
  },
  {
   "cell_type": "code",
   "execution_count": 14,
   "metadata": {
    "collapsed": false
   },
   "outputs": [],
   "source": [
    "# remove August (if not already removed)\n",
    "#dates_count = dates_count.drop('2016-August',axis=0)\n",
    "#dates_count[-5:]"
   ]
  },
  {
   "cell_type": "markdown",
   "metadata": {},
   "source": [
    "**dates_count** is a DataFrame containing TOTAL SUM of all grades in each month.\n",
    "#### Now: resample to every x months , x=(2,3,4)\n",
    "+ 4 months gives the most smooth curve"
   ]
  },
  {
   "cell_type": "code",
   "execution_count": 15,
   "metadata": {
    "collapsed": false
   },
   "outputs": [
    {
     "data": {
      "text/plain": [
       "<matplotlib.text.Text at 0x11295a790>"
      ]
     },
     "execution_count": 15,
     "metadata": {},
     "output_type": "execute_result"
    },
    {
     "data": {
      "image/png": "[encoded data removed]",
      "text/plain": [
       "<matplotlib.figure.Figure at 0x112cb19d0>"
      ]
     },
     "metadata": {},
     "output_type": "display_data"
    }
   ],
   "source": [
    "# Resample every 2 months\n",
    "dates_count=dates_count.resample('2M', label='right').sum()\n",
    "# change Index to remove 'day' \n",
    "dates_count.index = dates_count.index.to_period('M')\n",
    "\n",
    "# change the month from numeric to Calendar name\n",
    "# Does NOT count up number instances in each month *yet*\n",
    "dates_count= dates_count.rename(index=lambda x:x.strftime('%Y-%B'))\n",
    "\n",
    "dates_count.plot()\n",
    "plt.title(\"Total number of ALL letter grades awarded (in bins of 2 Months)\")"
   ]
  },
  {
   "cell_type": "markdown",
   "metadata": {},
   "source": [
    "## RESAMPLE the letter=(A,B,C) grades every 2 months\n",
    "+ grades_a (or, b,c) is numeric, Grade counts\n",
    "+ can apply resample to change number of months\n",
    "+ binS = size of bin bucket, 2, 3, 4 etc. (number months) "
   ]
  },
  {
   "cell_type": "code",
   "execution_count": 16,
   "metadata": {
    "collapsed": true
   },
   "outputs": [],
   "source": [
    "# CHANGE Date Format to Y-M-D; where Day is 1st of Month\n",
    "grades_a.index = pd.to_datetime(grades_a.index)\n",
    "grades_b.index = pd.to_datetime(grades_b.index)\n",
    "grades_c.index = pd.to_datetime(grades_c.index)"
   ]
  },
  {
   "cell_type": "code",
   "execution_count": 42,
   "metadata": {
    "collapsed": false
   },
   "outputs": [
    {
     "data": {
      "text/html": [
       "<div>\n",
       "<table border=\"1\" class=\"dataframe\">\n",
       "  <thead>\n",
       "    <tr style=\"text-align: right;\">\n",
       "      <th></th>\n",
       "      <th>GRADE</th>\n",
       "    </tr>\n",
       "    <tr>\n",
       "      <th>INSPECTION DATE</th>\n",
       "      <th></th>\n",
       "    </tr>\n",
       "  </thead>\n",
       "  <tbody>\n",
       "    <tr>\n",
       "      <th>2015-12-01</th>\n",
       "      <td>7503</td>\n",
       "    </tr>\n",
       "    <tr>\n",
       "      <th>2016-02-01</th>\n",
       "      <td>9120</td>\n",
       "    </tr>\n",
       "    <tr>\n",
       "      <th>2016-04-01</th>\n",
       "      <td>10679</td>\n",
       "    </tr>\n",
       "    <tr>\n",
       "      <th>2016-06-01</th>\n",
       "      <td>10089</td>\n",
       "    </tr>\n",
       "    <tr>\n",
       "      <th>2016-08-01</th>\n",
       "      <td>2645</td>\n",
       "    </tr>\n",
       "  </tbody>\n",
       "</table>\n",
       "</div>"
      ],
      "text/plain": [
       "                 GRADE\n",
       "INSPECTION DATE       \n",
       "2015-12-01        7503\n",
       "2016-02-01        9120\n",
       "2016-04-01       10679\n",
       "2016-06-01       10089\n",
       "2016-08-01        2645"
      ]
     },
     "execution_count": 42,
     "metadata": {},
     "output_type": "execute_result"
    }
   ],
   "source": [
    "grades_c.shape\n",
    "grades_a[-5:]"
   ]
  },
  {
   "cell_type": "code",
   "execution_count": 17,
   "metadata": {
    "collapsed": false
   },
   "outputs": [],
   "source": [
    "binS = '2M' #binsize\n",
    "def grade_binning(gradeDF):\n",
    "    tmp_x = gradeDF.resample(binS).sum()\n",
    "    #tmp_x.index = gradeDF.index.to_period('M')\n",
    "    tmp_x = tmp_x.rename(index=lambda x:x.strftime('%Y-%B'))\n",
    "    return tmp_x\n",
    "\n",
    "grades_a = grade_binning(grades_a)\n",
    "grades_b = grade_binning(grades_b)\n",
    "grades_c = grade_binning(grades_c)\n"
   ]
  },
  {
   "cell_type": "code",
   "execution_count": 18,
   "metadata": {
    "collapsed": false
   },
   "outputs": [],
   "source": [
    "# get Grade % of Total \n",
    "grades_a_p2M =(grades_a/dates_count[['GRADE']])*100\n",
    "grades_b_p2M =(grades_b/dates_count[['GRADE']])*100\n",
    "grades_c_p2M =(grades_c/dates_count[['GRADE']])*100"
   ]
  },
  {
   "cell_type": "markdown",
   "metadata": {},
   "source": [
    "#Plot for every 2 months"
   ]
  },
  {
   "cell_type": "code",
   "execution_count": 19,
   "metadata": {
    "collapsed": false
   },
   "outputs": [
    {
     "data": {
      "text/plain": [
       "<matplotlib.text.Text at 0x111fa76d0>"
      ]
     },
     "execution_count": 19,
     "metadata": {},
     "output_type": "execute_result"
    },
    {
     "data": {
      "image/png": "[encoded data removed]",
      "text/plain": [
       "<matplotlib.figure.Figure at 0x11462b910>"
      ]
     },
     "metadata": {},
     "output_type": "display_data"
    }
   ],
   "source": [
    "# test plots\n",
    "matplotlib.style.use('ggplot')\n",
    "\n",
    "fig = plt.figure(figsize = (12,8))\n",
    "    #this object's add_subplot method is then called for every plotting window\n",
    "ax1 = fig.add_subplot(111)\n",
    "#ax2 = fig.add_subplot(211)\n",
    "#ax3 = fig.add_subplot(111)\n",
    "\n",
    "grades_a_p2M.plot(ax=ax1)\n",
    "grades_b_p2M.plot(ax=ax1)\n",
    "grades_c_p2M.plot(ax=ax1)\n",
    "plt.legend(['A-Grades', 'B-Grades','C-Grades'], loc='center left')\n",
    "plt.title(\"% share of each grade, using bins of 2 months\", size=20, weight='demi',\n",
    "          color='Slategrey')\n",
    "# weight is bold, demi bold, etc. "
   ]
  },
  {
   "cell_type": "markdown",
   "metadata": {},
   "source": [
    "After an initial  decline the number of A grades awarded increases, while B and C grades are on the decline "
   ]
  },
  {
   "cell_type": "code",
   "execution_count": null,
   "metadata": {
    "collapsed": true
   },
   "outputs": [],
   "source": []
  }
 ],
 "metadata": {
  "kernelspec": {
   "display_name": "Python 2",
   "language": "python",
   "name": "python2"
  },
  "language_info": {
   "codemirror_mode": {
    "name": "ipython",
    "version": 2
   },
   "file_extension": ".py",
   "mimetype": "text/x-python",
   "name": "python",
   "nbconvert_exporter": "python",
   "pygments_lexer": "ipython2",
   "version": "2.7.11"
  }
 },
 "nbformat": 4,
 "nbformat_minor": 0
}
